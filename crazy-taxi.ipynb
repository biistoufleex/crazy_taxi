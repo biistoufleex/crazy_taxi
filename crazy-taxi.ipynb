{
 "cells": [
  {
   "cell_type": "markdown",
   "id": "b7b987a8",
   "metadata": {},
   "source": [
    "Pour les deux graph principaux de q-learning et sarsa.\n",
    "\n",
    "En analysant ces deux graphiques, je peux faire les déductions suivantes:\n",
    "\n",
    "Convergence: Le graphique 1 montre une convergence beaucoup plus stable et rapide que le graphique 2. Les courbes de récompenses (vert) et d'étapes (orange) se stabilisent rapidement dans le graphique 1, tandis qu'elles restent très volatiles dans le graphique 2.\n",
    "\n",
    "Stabilité: Le premier algorithme (graphique 1) semble beaucoup plus stable. Les fluctuations dans les récompenses et les étapes diminuent considérablement au fil du temps. En revanche, le deuxième algorithme (graphique 2) montre des variations importantes tout au long de l'entraînement.\n",
    "\n",
    "Performance: L'algorithme du graphique 1 semble atteindre de meilleures performances moyennes. Les récompenses se stabilisent à un niveau plus élevé et les étapes à un niveau plus bas, ce qui est généralement souhaitable dans l'apprentissage par renforcement.\n",
    "\n",
    "Exploration (Epsilon): Dans les deux cas, l'epsilon (ligne rouge) décroît de manière similaire, mais son impact sur la performance semble très différent. L'algorithme 1 semble mieux exploiter la réduction de l'exploration.\n",
    "\n",
    "Apprentissage: L'algorithme 1 semble apprendre plus efficacement. Il montre une amélioration constante et maintient ses performances, tandis que l'algorithme 2 semble avoir du mal à maintenir des performances stables.\n",
    "\n",
    "Robustesse: L'algorithme 1 paraît plus robuste aux variations de l'environnement ou aux aléas de l'apprentissage, tandis que l'algorithme 2 semble très sensible à ces facteurs.\n",
    "\n",
    "En conclusion, l'algorithme représenté dans le graphique 1 semble nettement supérieur en termes de stabilité, de convergence et de performance globale pour cette tâche particulière."
   ]
  }
 ],
 "metadata": {
  "kernelspec": {
   "display_name": "Python 3 (ipykernel)",
   "language": "python",
   "name": "python3"
  },
  "language_info": {
   "codemirror_mode": {
    "name": "ipython",
    "version": 3
   },
   "file_extension": ".py",
   "mimetype": "text/x-python",
   "name": "python",
   "nbconvert_exporter": "python",
   "pygments_lexer": "ipython3",
   "version": "3.10.12"
  }
 },
 "nbformat": 4,
 "nbformat_minor": 5
}
